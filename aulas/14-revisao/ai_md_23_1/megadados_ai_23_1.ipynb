{
 "cells": [
  {
   "cell_type": "markdown",
   "id": "f62ded59",
   "metadata": {},
   "source": [
    "# AI MEGADADOS 23-1"
   ]
  },
  {
   "cell_type": "markdown",
   "id": "37555db8",
   "metadata": {},
   "source": [
    "**NOME**: Tomas Alessi"
   ]
  },
  {
   "cell_type": "markdown",
   "id": "dcd0397c",
   "metadata": {},
   "source": [
    "## Parte 1 - CarTracking!\n",
    "\n",
    "Na parte 1 da prova de MEGADADOS, iremos trabalhar com a base de dados sintética **CarTracking**.\n",
    "\n",
    "### Insper autograding!\n",
    "\n",
    "Para receber feedback dos exercício na parte 1, iremos utilizar o `insper autograding`. Se não fez este passo, abra o notebook disponível na aula 09.\n",
    "\n",
    "**Sugestão**: para aproveitar o `.env`, crie uma pasta para a prova no mesmo local onde costuma deixar as pastas das **aulas**!\n",
    "\n",
    "### Instalação da base\n",
    "\n",
    "Execute os scripts `script_001.sql` e `script_002.sql` no MySQL Workbench. Estes scripts criam uma base **cartracking** e inserem alguns dados de exemplo para resolução da prova.\n",
    "\n",
    "A base pode ser representada pelo seguinte diagrama do model orelacional (diagrama ER):\n",
    "\n",
    "<img src=\"img/deer_cartracing.png\">"
   ]
  },
  {
   "cell_type": "markdown",
   "id": "3dfa114e",
   "metadata": {},
   "source": [
    "A base da prova simula um cenário de **rastreamento de veículos**. Nela, estão cadastrados **automóveis** de **clientes**. Os automóveis podem ter múltiplos **rastreadores** instalados, mas cada rastreador está associado a apenas um automóvel.\n",
    "\n",
    "Os rastreadores irão gerar **eventos** de rastreamento, contendo informações de geolocalização e temperatura em determinados momentos do tempo."
   ]
  },
  {
   "cell_type": "markdown",
   "id": "feb97635",
   "metadata": {},
   "source": [
    "## Como resolver os exercícios?\n",
    "\n",
    "Crie a base da prova em sua máquina (passo anterior). Utilize o MySQL Workbench ou o conector para testar as queries. Quando estiver bastante certo de que a resposta está correta, faça a submissão para o servidor.\n",
    "\n",
    "## Import das bibliotecas\n",
    "\n",
    "Vamos realizar o import das bibliotecas."
   ]
  },
  {
   "cell_type": "code",
   "execution_count": 1,
   "id": "b2f1597a",
   "metadata": {},
   "outputs": [],
   "source": [
    "import mysql.connector\n",
    "from functools import partial\n",
    "import os\n",
    "import insperautograder.jupyter as ia\n",
    "from dotenv import load_dotenv"
   ]
  },
  {
   "cell_type": "markdown",
   "id": "33eefa0d",
   "metadata": {},
   "source": [
    "E vamos criar nosso HELPER de conexão com o banco! Perceba que, uma vez configurado o `.env` não precisaremos mais informar usuários, senhas e URLs!"
   ]
  },
  {
   "cell_type": "code",
   "execution_count": 2,
   "id": "f5147533",
   "metadata": {},
   "outputs": [
    {
     "ename": "ProgrammingError",
     "evalue": "1049 (42000): Unknown database 'cartracking'",
     "output_type": "error",
     "traceback": [
      "\u001b[0;31m---------------------------------------------------------------------------\u001b[0m",
      "\u001b[0;31mMySQLInterfaceError\u001b[0m                       Traceback (most recent call last)",
      "File \u001b[0;32m~/INSPER/5-semestre/megadados/env/lib/python3.11/site-packages/mysql/connector/connection_cext.py:323\u001b[0m, in \u001b[0;36mCMySQLConnection._open_connection\u001b[0;34m(self)\u001b[0m\n\u001b[1;32m    322\u001b[0m \u001b[38;5;28;01mtry\u001b[39;00m:\n\u001b[0;32m--> 323\u001b[0m     \u001b[38;5;28;43mself\u001b[39;49m\u001b[38;5;241;43m.\u001b[39;49m\u001b[43m_cmysql\u001b[49m\u001b[38;5;241;43m.\u001b[39;49m\u001b[43mconnect\u001b[49m\u001b[43m(\u001b[49m\u001b[38;5;241;43m*\u001b[39;49m\u001b[38;5;241;43m*\u001b[39;49m\u001b[43mcnx_kwargs\u001b[49m\u001b[43m)\u001b[49m\n\u001b[1;32m    324\u001b[0m     \u001b[38;5;28mself\u001b[39m\u001b[38;5;241m.\u001b[39m_cmysql\u001b[38;5;241m.\u001b[39mconverter_str_fallback \u001b[38;5;241m=\u001b[39m \u001b[38;5;28mself\u001b[39m\u001b[38;5;241m.\u001b[39m_converter_str_fallback\n",
      "\u001b[0;31mMySQLInterfaceError\u001b[0m: Unknown database 'cartracking'",
      "\nThe above exception was the direct cause of the following exception:\n",
      "\u001b[0;31mProgrammingError\u001b[0m                          Traceback (most recent call last)",
      "Cell \u001b[0;32mIn[2], line 21\u001b[0m\n\u001b[1;32m     12\u001b[0m     connection \u001b[38;5;241m=\u001b[39m mysql\u001b[38;5;241m.\u001b[39mconnector\u001b[38;5;241m.\u001b[39mconnect(\n\u001b[1;32m     13\u001b[0m         host\u001b[38;5;241m=\u001b[39mos\u001b[38;5;241m.\u001b[39mgetenv(\u001b[38;5;124m\"\u001b[39m\u001b[38;5;124mMD_DB_SERVER\u001b[39m\u001b[38;5;124m\"\u001b[39m),\n\u001b[1;32m     14\u001b[0m         user\u001b[38;5;241m=\u001b[39mos\u001b[38;5;241m.\u001b[39mgetenv(\u001b[38;5;124m\"\u001b[39m\u001b[38;5;124mMD_DB_USERNAME\u001b[39m\u001b[38;5;124m\"\u001b[39m),\n\u001b[1;32m     15\u001b[0m         password\u001b[38;5;241m=\u001b[39mos\u001b[38;5;241m.\u001b[39mgetenv(\u001b[38;5;124m\"\u001b[39m\u001b[38;5;124mMD_DB_PASSWORD\u001b[39m\u001b[38;5;124m\"\u001b[39m),\n\u001b[1;32m     16\u001b[0m         database\u001b[38;5;241m=\u001b[39m\u001b[38;5;124m\"\u001b[39m\u001b[38;5;124mcartracking\u001b[39m\u001b[38;5;124m\"\u001b[39m,\n\u001b[1;32m     17\u001b[0m     )\n\u001b[1;32m     18\u001b[0m     \u001b[38;5;28;01mreturn\u001b[39;00m connection, partial(run_db_query, connection)\n\u001b[0;32m---> 21\u001b[0m connection, db \u001b[38;5;241m=\u001b[39m \u001b[43mget_connection_helper\u001b[49m\u001b[43m(\u001b[49m\u001b[43m)\u001b[49m\n",
      "Cell \u001b[0;32mIn[2], line 12\u001b[0m, in \u001b[0;36mget_connection_helper\u001b[0;34m()\u001b[0m\n\u001b[1;32m      9\u001b[0m         \u001b[38;5;28;01mfor\u001b[39;00m result \u001b[38;5;129;01min\u001b[39;00m cursor:\n\u001b[1;32m     10\u001b[0m             \u001b[38;5;28mprint\u001b[39m(result)\n\u001b[0;32m---> 12\u001b[0m connection \u001b[38;5;241m=\u001b[39m \u001b[43mmysql\u001b[49m\u001b[38;5;241;43m.\u001b[39;49m\u001b[43mconnector\u001b[49m\u001b[38;5;241;43m.\u001b[39;49m\u001b[43mconnect\u001b[49m\u001b[43m(\u001b[49m\n\u001b[1;32m     13\u001b[0m \u001b[43m    \u001b[49m\u001b[43mhost\u001b[49m\u001b[38;5;241;43m=\u001b[39;49m\u001b[43mos\u001b[49m\u001b[38;5;241;43m.\u001b[39;49m\u001b[43mgetenv\u001b[49m\u001b[43m(\u001b[49m\u001b[38;5;124;43m\"\u001b[39;49m\u001b[38;5;124;43mMD_DB_SERVER\u001b[39;49m\u001b[38;5;124;43m\"\u001b[39;49m\u001b[43m)\u001b[49m\u001b[43m,\u001b[49m\n\u001b[1;32m     14\u001b[0m \u001b[43m    \u001b[49m\u001b[43muser\u001b[49m\u001b[38;5;241;43m=\u001b[39;49m\u001b[43mos\u001b[49m\u001b[38;5;241;43m.\u001b[39;49m\u001b[43mgetenv\u001b[49m\u001b[43m(\u001b[49m\u001b[38;5;124;43m\"\u001b[39;49m\u001b[38;5;124;43mMD_DB_USERNAME\u001b[39;49m\u001b[38;5;124;43m\"\u001b[39;49m\u001b[43m)\u001b[49m\u001b[43m,\u001b[49m\n\u001b[1;32m     15\u001b[0m \u001b[43m    \u001b[49m\u001b[43mpassword\u001b[49m\u001b[38;5;241;43m=\u001b[39;49m\u001b[43mos\u001b[49m\u001b[38;5;241;43m.\u001b[39;49m\u001b[43mgetenv\u001b[49m\u001b[43m(\u001b[49m\u001b[38;5;124;43m\"\u001b[39;49m\u001b[38;5;124;43mMD_DB_PASSWORD\u001b[39;49m\u001b[38;5;124;43m\"\u001b[39;49m\u001b[43m)\u001b[49m\u001b[43m,\u001b[49m\n\u001b[1;32m     16\u001b[0m \u001b[43m    \u001b[49m\u001b[43mdatabase\u001b[49m\u001b[38;5;241;43m=\u001b[39;49m\u001b[38;5;124;43m\"\u001b[39;49m\u001b[38;5;124;43mcartracking\u001b[39;49m\u001b[38;5;124;43m\"\u001b[39;49m\u001b[43m,\u001b[49m\n\u001b[1;32m     17\u001b[0m \u001b[43m\u001b[49m\u001b[43m)\u001b[49m\n\u001b[1;32m     18\u001b[0m \u001b[38;5;28;01mreturn\u001b[39;00m connection, partial(run_db_query, connection)\n",
      "File \u001b[0;32m~/INSPER/5-semestre/megadados/env/lib/python3.11/site-packages/mysql/connector/pooling.py:322\u001b[0m, in \u001b[0;36mconnect\u001b[0;34m(*args, **kwargs)\u001b[0m\n\u001b[1;32m    319\u001b[0m         \u001b[38;5;28;01mraise\u001b[39;00m \u001b[38;5;167;01mImportError\u001b[39;00m(ERROR_NO_CEXT)\n\u001b[1;32m    321\u001b[0m \u001b[38;5;28;01mif\u001b[39;00m CMySQLConnection \u001b[38;5;129;01mand\u001b[39;00m \u001b[38;5;129;01mnot\u001b[39;00m use_pure:\n\u001b[0;32m--> 322\u001b[0m     \u001b[38;5;28;01mreturn\u001b[39;00m \u001b[43mCMySQLConnection\u001b[49m\u001b[43m(\u001b[49m\u001b[38;5;241;43m*\u001b[39;49m\u001b[43margs\u001b[49m\u001b[43m,\u001b[49m\u001b[43m \u001b[49m\u001b[38;5;241;43m*\u001b[39;49m\u001b[38;5;241;43m*\u001b[39;49m\u001b[43mkwargs\u001b[49m\u001b[43m)\u001b[49m\n\u001b[1;32m    323\u001b[0m \u001b[38;5;28;01mreturn\u001b[39;00m MySQLConnection(\u001b[38;5;241m*\u001b[39margs, \u001b[38;5;241m*\u001b[39m\u001b[38;5;241m*\u001b[39mkwargs)\n",
      "File \u001b[0;32m~/INSPER/5-semestre/megadados/env/lib/python3.11/site-packages/mysql/connector/connection_cext.py:140\u001b[0m, in \u001b[0;36mCMySQLConnection.__init__\u001b[0;34m(self, **kwargs)\u001b[0m\n\u001b[1;32m    138\u001b[0m \u001b[38;5;28;01mif\u001b[39;00m kwargs:\n\u001b[1;32m    139\u001b[0m     \u001b[38;5;28;01mtry\u001b[39;00m:\n\u001b[0;32m--> 140\u001b[0m         \u001b[38;5;28;43mself\u001b[39;49m\u001b[38;5;241;43m.\u001b[39;49m\u001b[43mconnect\u001b[49m\u001b[43m(\u001b[49m\u001b[38;5;241;43m*\u001b[39;49m\u001b[38;5;241;43m*\u001b[39;49m\u001b[43mkwargs\u001b[49m\u001b[43m)\u001b[49m\n\u001b[1;32m    141\u001b[0m     \u001b[38;5;28;01mexcept\u001b[39;00m \u001b[38;5;167;01mException\u001b[39;00m:\n\u001b[1;32m    142\u001b[0m         \u001b[38;5;28mself\u001b[39m\u001b[38;5;241m.\u001b[39mclose()\n",
      "File \u001b[0;32m~/INSPER/5-semestre/megadados/env/lib/python3.11/site-packages/mysql/connector/abstracts.py:1363\u001b[0m, in \u001b[0;36mMySQLConnectionAbstract.connect\u001b[0;34m(self, **kwargs)\u001b[0m\n\u001b[1;32m   1360\u001b[0m     \u001b[38;5;28mself\u001b[39m\u001b[38;5;241m.\u001b[39mconfig(\u001b[38;5;241m*\u001b[39m\u001b[38;5;241m*\u001b[39mkwargs)\n\u001b[1;32m   1362\u001b[0m \u001b[38;5;28mself\u001b[39m\u001b[38;5;241m.\u001b[39mdisconnect()\n\u001b[0;32m-> 1363\u001b[0m \u001b[38;5;28;43mself\u001b[39;49m\u001b[38;5;241;43m.\u001b[39;49m\u001b[43m_open_connection\u001b[49m\u001b[43m(\u001b[49m\u001b[43m)\u001b[49m\n\u001b[1;32m   1365\u001b[0m charset, collation \u001b[38;5;241m=\u001b[39m (\n\u001b[1;32m   1366\u001b[0m     kwargs\u001b[38;5;241m.\u001b[39mpop(\u001b[38;5;124m\"\u001b[39m\u001b[38;5;124mcharset\u001b[39m\u001b[38;5;124m\"\u001b[39m, \u001b[38;5;28;01mNone\u001b[39;00m),\n\u001b[1;32m   1367\u001b[0m     kwargs\u001b[38;5;241m.\u001b[39mpop(\u001b[38;5;124m\"\u001b[39m\u001b[38;5;124mcollation\u001b[39m\u001b[38;5;124m\"\u001b[39m, \u001b[38;5;28;01mNone\u001b[39;00m),\n\u001b[1;32m   1368\u001b[0m )\n\u001b[1;32m   1369\u001b[0m \u001b[38;5;28;01mif\u001b[39;00m charset \u001b[38;5;129;01mor\u001b[39;00m collation:\n",
      "File \u001b[0;32m~/INSPER/5-semestre/megadados/env/lib/python3.11/site-packages/mysql/connector/connection_cext.py:328\u001b[0m, in \u001b[0;36mCMySQLConnection._open_connection\u001b[0;34m(self)\u001b[0m\n\u001b[1;32m    326\u001b[0m         \u001b[38;5;28mself\u001b[39m\u001b[38;5;241m.\u001b[39mconverter\u001b[38;5;241m.\u001b[39mstr_fallback \u001b[38;5;241m=\u001b[39m \u001b[38;5;28mself\u001b[39m\u001b[38;5;241m.\u001b[39m_converter_str_fallback\n\u001b[1;32m    327\u001b[0m \u001b[38;5;28;01mexcept\u001b[39;00m MySQLInterfaceError \u001b[38;5;28;01mas\u001b[39;00m err:\n\u001b[0;32m--> 328\u001b[0m     \u001b[38;5;28;01mraise\u001b[39;00m get_mysql_exception(\n\u001b[1;32m    329\u001b[0m         msg\u001b[38;5;241m=\u001b[39merr\u001b[38;5;241m.\u001b[39mmsg, errno\u001b[38;5;241m=\u001b[39merr\u001b[38;5;241m.\u001b[39merrno, sqlstate\u001b[38;5;241m=\u001b[39merr\u001b[38;5;241m.\u001b[39msqlstate\n\u001b[1;32m    330\u001b[0m     ) \u001b[38;5;28;01mfrom\u001b[39;00m \u001b[38;5;21;01merr\u001b[39;00m\n\u001b[1;32m    332\u001b[0m \u001b[38;5;28mself\u001b[39m\u001b[38;5;241m.\u001b[39m_do_handshake()\n",
      "\u001b[0;31mProgrammingError\u001b[0m: 1049 (42000): Unknown database 'cartracking'"
     ]
    }
   ],
   "source": [
    "load_dotenv(override=True)\n",
    "\n",
    "def get_connection_helper():\n",
    "\n",
    "    def run_db_query(connection, query, args=None):\n",
    "        with connection.cursor() as cursor:\n",
    "            print(\"Executando query:\")\n",
    "            cursor.execute(query, args)\n",
    "            for result in cursor:\n",
    "                print(result)\n",
    "\n",
    "    connection = mysql.connector.connect(\n",
    "        host=os.getenv(\"MD_DB_SERVER\"),\n",
    "        user=os.getenv(\"MD_DB_USERNAME\"),\n",
    "        password=os.getenv(\"MD_DB_PASSWORD\"),\n",
    "        database=\"cartracking\",\n",
    "    )\n",
    "    return connection, partial(run_db_query, connection)\n",
    "\n",
    "\n",
    "connection, db = get_connection_helper()"
   ]
  },
  {
   "cell_type": "markdown",
   "id": "86e481dc",
   "metadata": {},
   "source": [
    "### Notas\n",
    "\n",
    "Para conferir a nota da correção automática da prova, utilize:"
   ]
  },
  {
   "cell_type": "code",
   "execution_count": null,
   "id": "9d0c9a82",
   "metadata": {},
   "outputs": [],
   "source": [
    "ia.grades(task=\"ai_md_23_1\")"
   ]
  },
  {
   "cell_type": "code",
   "execution_count": null,
   "id": "55d92296",
   "metadata": {},
   "outputs": [],
   "source": [
    "ia.grades(by=\"TASK\", task=\"ai_md_23_1\")"
   ]
  },
  {
   "cell_type": "markdown",
   "id": "a1c915a9",
   "metadata": {},
   "source": [
    "**Obs**: Esta parte da avaliação vale **6 pontos** na nota da prova.\n",
    "- 50% da nota será pela correção automática do servidor\n",
    "- 50% da nota será pela correção pelo professor, que levará em consideração, por exemplo:\n",
    "    - Quão distante sua solução ficou de uma solução correta\n",
    "    - Se as queries estão formatadas:\n",
    "        - Padrão de maiúsculas e minúsculas\n",
    "        - Tabulações e quebras de linhas\n",
    "    - Se utiliza *alias* nas tabelas, especialmente em queries com múltiplas tabelas\n",
    "    \n",
    "A nota retornada pelo servidor estará no intervalo `0.0` a `10.0` e será multiplicada por `0.3` para compor os `50%` da correção automática.\n",
    "\n",
    "Ainda, considere que os testes não são exaustivos. Sua solução deve funcionar para qualquer conjunto de dados no *schema* **cartracking**."
   ]
  },
  {
   "cell_type": "markdown",
   "id": "010383c1",
   "metadata": {},
   "source": [
    "**Exercício 1**: Crie uma query que retorne a quantidade de clientes pessoa jurídica cadastrados na base.\n",
    "\n",
    "**Obs**: considere que um cliente pessoa jurídica é um cliente com cnpj preenchido!"
   ]
  },
  {
   "cell_type": "code",
   "execution_count": null,
   "id": "6ac40e23",
   "metadata": {},
   "outputs": [],
   "source": [
    "sql_ex01 = \"\"\"\n",
    "-- Sua query AQUI!\n",
    "\"\"\"\n",
    "\n",
    "db(sql_ex01)"
   ]
  },
  {
   "cell_type": "markdown",
   "id": "9db4baba",
   "metadata": {},
   "source": [
    "Após testar localmente e considerar sua solução correta, faça o envio clicando no botão abaixo!"
   ]
  },
  {
   "cell_type": "code",
   "execution_count": null,
   "id": "dba353fb",
   "metadata": {},
   "outputs": [],
   "source": [
    "ia.sender(answer=\"sql_ex01\", task=\"ai_md_23_1\", question=\"ex01\", answer_type=\"pyvar\")"
   ]
  },
  {
   "cell_type": "markdown",
   "id": "c167b70e",
   "metadata": {},
   "source": [
    "**Exercício 2**: Crie uma query que retorne, **sem repetição**, todos os `modelo` e `marca` dos `automovel` cadastrados. Retorne ordenado de forma crescente pelo `modelo`."
   ]
  },
  {
   "cell_type": "code",
   "execution_count": null,
   "id": "0203756a",
   "metadata": {},
   "outputs": [],
   "source": [
    "sql_ex02 = \"\"\"\n",
    "-- Sua query AQUI!\n",
    "\"\"\"\n",
    "\n",
    "db(sql_ex02)"
   ]
  },
  {
   "cell_type": "markdown",
   "id": "ed653f31",
   "metadata": {},
   "source": [
    "Após testar localmente e considerar sua solução correta, faça o envio clicando no botão abaixo!"
   ]
  },
  {
   "cell_type": "code",
   "execution_count": null,
   "id": "b38f883b",
   "metadata": {},
   "outputs": [],
   "source": [
    "ia.sender(answer=\"sql_ex02\", task=\"ai_md_23_1\", question=\"ex02\", answer_type=\"pyvar\")"
   ]
  },
  {
   "cell_type": "markdown",
   "id": "783982d7",
   "metadata": {},
   "source": [
    "**Exercício 3**: Crie uma query que retorne, o `nome` do `cliente` e a **quantidade** de automóveis que o cliente possui cadastrado na base.\n",
    "\n",
    "\n",
    "**Obs**:\n",
    "- Os clientes com mais automóveis cadastrados devem aparecer primeiro.\n",
    "- Clientes sem automóveis cadastrados não devem ser retornados"
   ]
  },
  {
   "cell_type": "code",
   "execution_count": null,
   "id": "7abc57c5",
   "metadata": {},
   "outputs": [],
   "source": [
    "sql_ex03 = \"\"\"\n",
    "-- Sua query AQUI!\n",
    "\"\"\"\n",
    "\n",
    "db(sql_ex03)"
   ]
  },
  {
   "cell_type": "markdown",
   "id": "f1cbdd5d",
   "metadata": {},
   "source": [
    "Após testar localmente e considerar sua solução correta, faça o envio clicando no botão abaixo!"
   ]
  },
  {
   "cell_type": "code",
   "execution_count": null,
   "id": "226f8184",
   "metadata": {},
   "outputs": [],
   "source": [
    "ia.sender(answer=\"sql_ex03\", task=\"ai_md_23_1\", question=\"ex03\", answer_type=\"pyvar\")"
   ]
  },
  {
   "cell_type": "markdown",
   "id": "d26b32cc",
   "metadata": {},
   "source": [
    "**Exercício 4**: Crie uma query que retorne, nesta ordem, o `idautomovel`, `ano`, `idcliente`, `idmodelo` e `travado` dos automóveis que **não possuem nenhum rastreador** vinculado a eles.\n",
    "\n",
    "\n",
    "**Obs**: ordene de forma crescente pelo `idautomovel`."
   ]
  },
  {
   "cell_type": "code",
   "execution_count": null,
   "id": "468eef5d",
   "metadata": {},
   "outputs": [],
   "source": [
    "sql_ex04 = \"\"\"\n",
    "-- Sua query AQUI!\n",
    "\"\"\"\n",
    "\n",
    "db(sql_ex04)"
   ]
  },
  {
   "cell_type": "markdown",
   "id": "90450f69",
   "metadata": {},
   "source": [
    "Após testar localmente e considerar sua solução correta, faça o envio clicando no botão abaixo!"
   ]
  },
  {
   "cell_type": "code",
   "execution_count": null,
   "id": "248d61fb",
   "metadata": {},
   "outputs": [],
   "source": [
    "ia.sender(answer=\"sql_ex04\", task=\"ai_md_23_1\", question=\"ex04\", answer_type=\"pyvar\")"
   ]
  },
  {
   "cell_type": "markdown",
   "id": "f1aea00a",
   "metadata": {},
   "source": [
    "**Exercício 5**: Considerando apenas os rastreadores **ativos**, crie uma query que retorne o `nome` do cliente, o `modelo` do automóvel rastreado, a temperatura **máxima** e **média** do motor registradas nos eventos do automóvel.\n",
    "\n",
    "**Obs**:\n",
    "- Retorne ordenado pela temperatura máxima, de forma decrescente\n",
    "- Retorne apenas os registros com temperatura máxima do motor acima de `85`\n",
    "- A coluna de temperatura máxima deve se chamar `max_temp_motor`\n",
    "- A coluna de temperatura média deve se chamar `avg_temp_motor`"
   ]
  },
  {
   "cell_type": "code",
   "execution_count": null,
   "id": "f89a659b",
   "metadata": {
    "scrolled": true
   },
   "outputs": [],
   "source": [
    "sql_ex05 = \"\"\"\n",
    "-- Sua query AQUI!\n",
    "\"\"\"\n",
    "\n",
    "db(sql_ex05)"
   ]
  },
  {
   "cell_type": "markdown",
   "id": "f72e42f8",
   "metadata": {},
   "source": [
    "Após testar localmente e considerar sua solução correta, faça o envio clicando no botão abaixo!"
   ]
  },
  {
   "cell_type": "code",
   "execution_count": null,
   "id": "2aa73426",
   "metadata": {},
   "outputs": [],
   "source": [
    "ia.sender(answer=\"sql_ex05\", task=\"ai_md_23_1\", question=\"ex05\", answer_type=\"pyvar\")"
   ]
  },
  {
   "cell_type": "markdown",
   "id": "6f01f5b4",
   "metadata": {},
   "source": [
    "**Exercício 6**: Crie uma tabela temporária `tmp_cliente_eventos` contendo o `nome`, `cpf`, `cnpj` do cliente, além da quantidade de **eventos** registrados na tabela `evento` para cada cliente.\n",
    "\n",
    "Requisitos:\n",
    "- Retorne ordenado pelo `nome` de forma crescente\n",
    "- A coluna de contagem deve se chamar `qtde_eventos`\n",
    "- Clientes sem eventos devem ter o valor `0` em `qtde_eventos`\n",
    "- Nos clientes com o `cpf` ou `cnpj` nulos, retorne uma string `'NAO_INFORMADO'`"
   ]
  },
  {
   "cell_type": "code",
   "execution_count": null,
   "id": "8fffc6e7",
   "metadata": {
    "scrolled": true
   },
   "outputs": [],
   "source": [
    "sql_ex06 = \"\"\"\n",
    "-- Sua query AQUI!\n",
    "\"\"\"\n",
    "\n",
    "db(sql_ex06)"
   ]
  },
  {
   "cell_type": "markdown",
   "id": "9c8ff357",
   "metadata": {},
   "source": [
    "Após testar localmente e considerar sua solução correta, faça o envio clicando no botão abaixo!"
   ]
  },
  {
   "cell_type": "code",
   "execution_count": null,
   "id": "1896fe20",
   "metadata": {},
   "outputs": [],
   "source": [
    "ia.sender(answer=\"sql_ex06\", task=\"ai_md_23_1\", question=\"ex06\", answer_type=\"pyvar\")"
   ]
  },
  {
   "cell_type": "markdown",
   "id": "00a11a57",
   "metadata": {},
   "source": [
    "### Conferindo as notas!"
   ]
  },
  {
   "cell_type": "code",
   "execution_count": null,
   "id": "8e3dd2f7",
   "metadata": {},
   "outputs": [],
   "source": [
    "ia.grades(task=\"ai_md_23_1\")"
   ]
  },
  {
   "cell_type": "markdown",
   "id": "fdb3ca75",
   "metadata": {},
   "source": [
    "## Parte 2 - Confraternizar!\n",
    "\n",
    "Você foi procurado por um grupo de alunos do Insper para uma consultoria na área de dados! Eles reclamaram que precisam realizar diversas confraternizações entre os estudantes do Insper, sendo difícil gerir todos os detalhes relativos aos eventos.\n",
    "\n",
    "Ainda, é desejo dos organizadores que toda a gestão seja digital, sem mais ingressos no papel!\n",
    "\n",
    "Em conversas com o cliente, você levantou as seguintes informações sobre o domínio de negócios:\n",
    "- As confraternizações são agendadas para acontecer em determinada data.\n",
    "- As confraternizações sempre possuem um tipo (calourada, pizzada, cine-cultural, etc.). Então, uma confraternização sempre é uma nova realização (ou oferecimento) de um tipo de evento.\n",
    "- Cada confraternização pode ser organizada por diversos alunos. É preciso manter um cadastro dos organizadores, indicando o cargo ocupado em cada festa (quando o aluno fizer parte da organização).\n",
    "- Os ingressos apenas podem ser adquiridos por alunos. O aluno pode comprar quantos ingresso quiser (para ele e/ou convidados). Quando o aluno compra um ingresso de determinada festa, ele tem a opção de indicar o nome do convidado que irá utilizar o ingresso.\n",
    "\n",
    "Utilize estas informações para propor soluções adequadas para os próximos exercícios.\n",
    "\n",
    "**Obs**: Esta parte da avaliação vale **4 pontos** na nota da prova:\n",
    "- 1.50 para o exercício 7\n",
    "- 0.75 para o exercício 8\n",
    "- 0.75 para o exercício 9\n",
    "- 1.00 para o exercício 10"
   ]
  },
  {
   "cell_type": "markdown",
   "id": "4f09a3aa",
   "metadata": {},
   "source": [
    "**Exercício 7**: Desenhe o diagrama do modelo relacional deste problema. Não esqueça de indicar claramente os tipos, chaves primárias, chaves estrangeiras, e a cardinalidade dos relacionamentos.\n",
    "\n",
    "**Obs:** Salve a imagem do diagrama na pasta `img`. Edite na resposta o caminho para a imagem!"
   ]
  },
  {
   "cell_type": "markdown",
   "id": "779f8ef4",
   "metadata": {},
   "source": [
    "<div class=\"alert alert-success\">\n",
    "    \n",
    "Edite na resposta o caminho para a imagem!\n",
    "    \n",
    "<img src=\"img/exemplo.png\">\n",
    "\n",
    "</div>"
   ]
  },
  {
   "cell_type": "markdown",
   "id": "afba7943",
   "metadata": {},
   "source": [
    "**Opcional**: caso julgue necessário, utilize o bloco abaixo para justificar decisões tomadas no desenho do diagrama."
   ]
  },
  {
   "cell_type": "markdown",
   "id": "e6770762",
   "metadata": {},
   "source": [
    "<div class=\"alert alert-success\">\n",
    "    \n",
    "Seu texto AQUI!\n",
    "\n",
    "</div>"
   ]
  },
  {
   "cell_type": "markdown",
   "id": "f513cf32",
   "metadata": {},
   "source": [
    "**Exercício 8**: Cole a **DDL** para criação da tabela de `organizadores`."
   ]
  },
  {
   "cell_type": "markdown",
   "id": "7399f161",
   "metadata": {},
   "source": [
    "<div class=\"alert alert-success\">\n",
    "\n",
    "```mysql\n",
    "\n",
    "-- Sua DDL AQUI!\n",
    "\n",
    "```\n",
    "\n",
    "</div>"
   ]
  },
  {
   "cell_type": "markdown",
   "id": "e2f02a4b",
   "metadata": {},
   "source": [
    "**Exercício 9**: Cole a **DML** para inserir um registro na tabela de `organizadores`. Utilize dados quaisquer!\n",
    "\n",
    "**Obs**: a query precisa estar correta, mas não necessariamente irá rodar no notebook do professor (pois pode depender de chaves estrangeiras). Não é obrigatório (nem vale nota) que você gaste tempo preenchendo valores em outras tabelas para que a query de fato funcione, mas tudo bem caso queira fazer assim!"
   ]
  },
  {
   "cell_type": "markdown",
   "id": "d3b6a6b0",
   "metadata": {},
   "source": [
    "<div class=\"alert alert-success\">\n",
    "\n",
    "```mysql\n",
    "\n",
    "-- Sua DML AQUI!\n",
    "\n",
    "```\n",
    "\n",
    "</div>"
   ]
  },
  {
   "cell_type": "markdown",
   "id": "e72905f3",
   "metadata": {},
   "source": [
    "**Exercício 10**: Discorra sobre as diferenças entre os relacionamentos identificadores e não-identificadores.\n",
    "\n",
    "Esta questão será corrigida considerando a seguinte subrica:\n",
    "| Conceito | Nota | Descrição                                                                                                                                               |\n",
    "|:----------:|----------:|:---------------------------------------------------------------------------------------------------------------------------------------------------------|\n",
    "| I        | 0.0 |Apenas citou o assunto ou alguns fatos sem explicações                                                                                                  |\n",
    "| D        | 0.3 |Explicou superficialmente o assunto ou fatos mas sem muitos detalhes conclusivos                                                                        |\n",
    "| C        | 0.6 |Explicou com detalhes, apresentando definições concretas.                                                                                               |\n",
    "| B        | 0.8 |Explicou com detalhes, apresentando definições concretas e exemplos de uso.                                                                            |\n",
    "| A        | 1.0 |Explicou com detalhes, apresentando definições concretas, exemplos de uso e ainda outros tópicos correlatos, fazendo uma conexão lógica entre eles. |"
   ]
  },
  {
   "cell_type": "markdown",
   "id": "fc7bc2d7",
   "metadata": {},
   "source": [
    "<div class=\"alert alert-success\">\n",
    "\n",
    "Sua resposta AQUI!\n",
    "\n",
    "</div>"
   ]
  },
  {
   "cell_type": "markdown",
   "id": "c0871f09",
   "metadata": {},
   "source": [
    "## Entrega!\n",
    "\n",
    "É hora de entregar. Faça um **zip** do notebook + imagens chamado `ai_megadados.zip` e submeta no Blackboard!\n",
    "\n",
    "**Obs**:\n",
    "- `zip`, não use `rar`!\n",
    "- Não precisa entregar os scripts fornecidos pelo professor (pasta scripts)"
   ]
  }
 ],
 "metadata": {
  "kernelspec": {
   "display_name": "Python 3 (ipykernel)",
   "language": "python",
   "name": "python3"
  },
  "language_info": {
   "codemirror_mode": {
    "name": "ipython",
    "version": 3
   },
   "file_extension": ".py",
   "mimetype": "text/x-python",
   "name": "python",
   "nbconvert_exporter": "python",
   "pygments_lexer": "ipython3",
   "version": "3.11.3"
  }
 },
 "nbformat": 4,
 "nbformat_minor": 5
}
